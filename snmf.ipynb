{
 "cells": [
  {
   "cell_type": "markdown",
   "metadata": {},
   "source": [
    "# Online Non-Negative Matrix Factorization using Hebbian/Anti-Hebbian network\n",
    "\n",
    "A third-party reimplementation of the paper: \"A Hebbian/Anti-Hebbian Network Derived from Online Non-Negative Matrix Factorization Can Cluster and Discover Sparse Features\"\n",
    "https://arxiv.org/abs/1503.00680"
   ]
  },
  {
   "cell_type": "code",
   "execution_count": 4,
   "metadata": {},
   "outputs": [],
   "source": [
    "import numpy as np\n",
    "import matplotlib.pyplot as plt\n",
    "%matplotlib inline\n",
    "import random"
   ]
  },
  {
   "cell_type": "markdown",
   "metadata": {},
   "source": [
    "## Dataset\n",
    "First prepare the dataset for clustering."
   ]
  },
  {
   "cell_type": "code",
   "execution_count": 5,
   "metadata": {},
   "outputs": [],
   "source": [
    "np.random.seed(10)\n",
    "x0 = np.random.normal(0.0, 1.0, [100, 2]) * np.sqrt(0.04) + [-0.0985, -0.3379] # (100, 2)\n",
    "x1 = np.random.normal(0.0, 1.0, [100, 2]) * np.sqrt(0.04) + [-0.6325,  0.9322] # (100, 2)\n",
    "x2 = np.random.normal(0.0, 1.0, [100, 2]) * np.sqrt(0.04) + [1.1078,   1.0856] # (100, 2)\n",
    "\n",
    "y0 = np.array([0] * 100, dtype=np.int32)\n",
    "y1 = np.array([1] * 100, dtype=np.int32)\n",
    "y2 = np.array([2] * 100, dtype=np.int32)\n",
    "\n",
    "X = np.vstack([x0, x1, x2]) # 300, 2\n",
    "c = np.hstack([y0, y1, y2]) # 300\n",
    "\n",
    "indices = np.arange(len(X))\n",
    "np.random.shuffle(indices)\n",
    "\n",
    "X = X[indices]\n",
    "c = c[indices]"
   ]
  },
  {
   "cell_type": "code",
   "execution_count": 8,
   "metadata": {},
   "outputs": [
    {
     "data": {
      "image/png": "[encoded data removed]",
      "text/plain": [
       "<Figure size 360x360 with 1 Axes>"
      ]
     },
     "metadata": {},
     "output_type": "display_data"
    }
   ],
   "source": [
    "plt.figure(figsize=(5, 5))\n",
    "plt.scatter(X[:,0], X[:,1])\n",
    "plt.xlim(-1.2, 1.7)\n",
    "plt.ylim(-1.0, 1.7)\n",
    "plt.show()"
   ]
  },
  {
   "cell_type": "code",
   "execution_count": 9,
   "metadata": {},
   "outputs": [],
   "source": [
    "x_dim = X.shape[1] # 2\n",
    "T = X.shape[0] # 300\n",
    "y_dim = 3"
   ]
  },
  {
   "cell_type": "markdown",
   "metadata": {},
   "source": [
    "## Training"
   ]
  },
  {
   "cell_type": "markdown",
   "metadata": {},
   "source": [
    "<img src=\"files/snmf_model.png\">"
   ]
  },
  {
   "cell_type": "markdown",
   "metadata": {},
   "source": [
    "Activation of the output node is,\n",
    "\n",
    "$$\n",
    "y_{T,i} = ReLU(W_{T,i} x_T - M_{T,i} y_T)\n",
    "$$\n",
    "\n",
    "Weight update rule is\n",
    "\n",
    "$$\n",
    "\\hat{Y}_{T,i} = \\hat{Y}_{T-1,i} + y^2_{T-1,i} \\\\\n",
    "W_{T,i,j} = W_{T-1,i,j} + \\frac{y_{T-1,i} \\left( x_{T-1,j} - W_{T-1,i,j} y_{T-1,i} \\right)} {\\hat{Y}_{T,i}} \\\\\n",
    "M_{T,i,j\\ne i} = M_{T-1,i,j} + \\frac{y_{T-1,i} \\left( y_{T-1,j} - M_{T-1,i,j} y_{T-1,i}  \\right) } { \\hat{Y}_{T,i} } \\\\\n",
    "$$"
   ]
  },
  {
   "cell_type": "code",
   "execution_count": 10,
   "metadata": {},
   "outputs": [],
   "source": [
    "def update_weight(W, M, x_t, y_t, y_hat):\n",
    "    \"\"\" Update weight matrix of W and M.\n",
    "    Equation (8) in the original paper.\n",
    "    \"\"\"\n",
    "    y_dim = y_t.shape[0]\n",
    "    y_hat += (y_t * y_t)\n",
    "    \n",
    "    # (3,1) x (1,2) = (3,2)\n",
    "    dW = y_t[:,np.newaxis].dot( x_t[np.newaxis,:] - (W.T.dot(y_t[:,np.newaxis])).T)\n",
    "    #dW = dW / y_hat[:,np.newaxis]\n",
    "    # (3, 2)\n",
    "    \n",
    "    for i in range(y_dim):\n",
    "        if y_hat[i] > 0:\n",
    "            W[i] += (dW[i] / y_hat[i])\n",
    "    \n",
    "    # (3,1) x (1,3) = (3,3)\n",
    "    dM = y_t[:,np.newaxis].dot( y_t[np.newaxis,:] - (M.T.dot(y_t[:,np.newaxis])).T)\n",
    "    #dM = dM / y_hat[:,np.newaxis]\n",
    "    \n",
    "    # Set diagonal elements to zero\n",
    "    for i in range(M.shape[0]):\n",
    "        dM[i,i] = 0.0\n",
    "    \n",
    "    for i in range(y_dim):\n",
    "        if y_hat[i] > 0:\n",
    "            M[i] += (dM[i] / y_hat[i])"
   ]
  },
  {
   "cell_type": "markdown",
   "metadata": {},
   "source": [
    "If the i-th degree of freedom has not been utilized, then adjust the output.\n",
    "\n",
    "$$\n",
    "y_{Ti} = \\left\\{\n",
    "\\begin{array}{l}\n",
    "0, \\quad\\left(\\left\\|x_{T}\\right\\|^{2}_2-\\sum_{k=1, k \\neq i}^{m} y_{Tk}^{2}\\right)^{2} \\leq \\lambda \\\\\n",
    "\\left(\\left\\|x_{T}\\right\\|^{2}_2-\\sum_{k=1, k \\neq i}^{m} y_{Tk}^{2}\\right)^{1 / 2}, \\left(\\left\\|x_{T}\\right\\|^{2}_2-\\sum_{k=1, k \\neq i}^{m} y_{Tk}^{2}\\right)^{2}>\\lambda\n",
    "\\end{array}\n",
    "\\right.\n",
    "$$"
   ]
  },
  {
   "cell_type": "code",
   "execution_count": 11,
   "metadata": {},
   "outputs": [],
   "source": [
    "def adjust_y_i(y_t, x_t, y_index, lambd=0.6):\n",
    "    \"\"\" If the node in y_t is not active previously, adjust it.\n",
    "    Equation (5) in the original paper.\n",
    "    \"\"\"\n",
    "    # y_t = (3,)\n",
    "    # x_t = (2,)\n",
    "    \n",
    "    y_dim = y_t.shape[0]\n",
    "    \n",
    "    # Calculate squree L2 norm of x_t\n",
    "    x_norm_sq = x_t.dot(x_t)    \n",
    "    y_t_sqs = y_t * y_t # (3,)\n",
    "    \n",
    "    y_t_adj = np.empty_like(y_t)\n",
    "    \n",
    "    d_i = x_norm_sq - (np.sum(y_t_sqs) - y_t_sqs[y_index])\n",
    "    d_i_sq = d_i * d_i\n",
    "    if d_i_sq <= lambd:\n",
    "        return 0.0\n",
    "    else:\n",
    "        if d_i < 0.0:\n",
    "            print(\"d_i was negative: {}\".format(d_i))\n",
    "            d_i = 0.0\n",
    "    return np.sqrt(d_i)"
   ]
  },
  {
   "cell_type": "code",
   "execution_count": 12,
   "metadata": {},
   "outputs": [],
   "source": [
    "W = np.zeros([y_dim, x_dim]) # (3, 2)\n",
    "M = np.zeros([y_dim, y_dim]) # (3, 3)\n",
    "\n",
    "# Active set {i}\n",
    "active_i_s = []\n",
    "active_counts = np.zeros([y_dim], dtype=np.int32)\n",
    "\n",
    "# Iteration count for convergence\n",
    "iteration = 100\n",
    "\n",
    "y_t_sum = np.zeros([y_dim])\n",
    "y_hat = np.zeros([y_dim]) # 3\n",
    "\n",
    "clusters = []\n",
    "\n",
    "for t in range(T):\n",
    "    # Get one input sample x_t\n",
    "    x_t = X[t] # (2,)\n",
    "    \n",
    "    # Zero initialze y_t\n",
    "    y_t = np.zeros(y_dim)\n",
    "    for i in active_i_s:\n",
    "        # If 'i' is in the active set {i}\n",
    "        for it in range(iteration):\n",
    "            # W[i] = (2,)\n",
    "            # M[i] = (3,)\n",
    "            a = W[i].dot(x_t) - M[i].dot(y_t)\n",
    "            # a is scaler\n",
    "            y_t_i = max(0, a)\n",
    "        y_t[i] = y_t_i\n",
    "    \n",
    "    for i in range(y_dim):\n",
    "        if active_counts[i] == 0:\n",
    "            y_t[i] = adjust_y_i(y_t, x_t, i)\n",
    "                \n",
    "    for i in range(y_dim):\n",
    "        if y_t[i] != 0.0:\n",
    "            active_counts[i] += 1\n",
    "            \n",
    "    for i in range(y_dim):\n",
    "        if (i not in active_i_s) and active_counts[i] > 0:\n",
    "            active_i_s.append(i)\n",
    "\n",
    "    update_weight(W, M, x_t, y_t, y_hat)\n",
    "    \n",
    "    cluster = np.argmax(y_t)\n",
    "    clusters.append(cluster)"
   ]
  },
  {
   "cell_type": "code",
   "execution_count": 18,
   "metadata": {},
   "outputs": [
    {
     "data": {
      "image/png": "[encoded data removed]",
      "text/plain": [
       "<Figure size 360x360 with 1 Axes>"
      ]
     },
     "metadata": {},
     "output_type": "display_data"
    }
   ],
   "source": [
    "plt.figure(figsize=(5, 5))\n",
    "plt.scatter(X[:,0], X[:,1], c=clusters)\n",
    "plt.xlim(-1.2, 1.7)\n",
    "plt.ylim(-1.0, 1.7)\n",
    "plt.show()"
   ]
  },
  {
   "cell_type": "code",
   "execution_count": 19,
   "metadata": {},
   "outputs": [
    {
     "name": "stdout",
     "output_type": "stream",
     "text": [
      "[0, 1, 2]\n"
     ]
    }
   ],
   "source": [
    "print(active_i_s)"
   ]
  },
  {
   "cell_type": "code",
   "execution_count": null,
   "metadata": {},
   "outputs": [],
   "source": []
  }
 ],
 "metadata": {
  "kernelspec": {
   "display_name": "Python 3",
   "language": "python",
   "name": "python3"
  },
  "language_info": {
   "codemirror_mode": {
    "name": "ipython",
    "version": 3
   },
   "file_extension": ".py",
   "mimetype": "text/x-python",
   "name": "python",
   "nbconvert_exporter": "python",
   "pygments_lexer": "ipython3",
   "version": "3.6.5"
  }
 },
 "nbformat": 4,
 "nbformat_minor": 2
}
